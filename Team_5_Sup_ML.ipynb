{
 "cells": [
  {
   "cell_type": "markdown",
   "id": "fdb4ddb5",
   "metadata": {},
   "source": [
    "# Heart Health Ensemble"
   ]
  },
  {
   "cell_type": "code",
   "execution_count": 1,
   "id": "7eedaff3",
   "metadata": {},
   "outputs": [
    {
     "data": {
      "text/html": [
       "<style>\n",
       "table {float:left}\n",
       "</style>\n"
      ],
      "text/plain": [
       "<IPython.core.display.HTML object>"
      ]
     },
     "metadata": {},
     "output_type": "display_data"
    }
   ],
   "source": [
    "%%html\n",
    "<style>\n",
    "table {float:left}\n",
    "</style>"
   ]
  },
  {
   "cell_type": "code",
   "execution_count": null,
   "id": "7df22673",
   "metadata": {},
   "outputs": [],
   "source": [
    "import warnings\n",
    "warnings.filterwarnings('ignore')"
   ]
  },
  {
   "cell_type": "code",
   "execution_count": null,
   "id": "1d0c035c",
   "metadata": {},
   "outputs": [],
   "source": [
    "import numpy as np\n",
    "import pandas as pd\n",
    "from pathlib import Path\n",
    "from collections import Counter\n",
    "from sklearn.metrics import balanced_accuracy_score\n",
    "from sklearn.metrics import confusion_matrix\n",
    "from imblearn.metrics import classification_report_imbalanced"
   ]
  },
  {
   "cell_type": "markdown",
   "id": "dc517a05",
   "metadata": {},
   "source": [
    "# Read Data and Perform Data Cleaning"
   ]
  },
  {
   "cell_type": "code",
   "execution_count": null,
   "id": "169fbf3c",
   "metadata": {},
   "outputs": [],
   "source": [
    "columns = [\n",
    "    \"HeartDisease\",\n",
    "    \"BMI\",\n",
    "    \"Smoking\",\n",
    "    \"AlcoholDrinking\",\n",
    "    \"Stroke\",\n",
    "    # \"PhysicalHealth\",\n",
    "    \"MentalHealth\",\n",
    "    \"DiffWalking\",\n",
    "    \"Sex\",\n",
    "    \"AgeCategory\",\n",
    "    \"Race\",\n",
    "    \"Diabetic\",\n",
    "    \"PhysicalActivity\",\n",
    "    \"SleepTime\",\n",
    "    \"Asthma\",\n",
    "    \"KidneyDisease\",\n",
    "    \"SkinCancer\"\n",
    "]\n",
    "\n",
    "target = [\"health_status\"]"
   ]
  },
  {
   "cell_type": "code",
   "execution_count": null,
   "id": "6241aa2a",
   "metadata": {
    "scrolled": true
   },
   "outputs": [],
   "source": [
    "# Load the data\n",
    "file_path = Path('./DataTables/heart_2020_cleaned.csv')\n",
    "df = pd.read_csv(file_path)\n",
    "df = df.loc[:, columns].copy()\n",
    "\n",
    "# Drop the null columns where all values are null\n",
    "df = df.dropna(axis='columns', how='all')\n",
    "\n",
    "# Drop the null rows\n",
    "df = df.dropna()\n",
    "df.head(10)"
   ]
  },
  {
   "cell_type": "markdown",
   "id": "a03b2119",
   "metadata": {},
   "source": [
    "# Read Data and Perform Data Cleaning\n",
    "### The following three steps take in three specific DataTables with pre-defined bins for the following columns:\n",
    "- AgeCategory\n",
    "- Diabetic\n",
    "- SleepTime"
   ]
  },
  {
   "cell_type": "markdown",
   "id": "eb113df2",
   "metadata": {},
   "source": [
    "### AgeCategory\n",
    "AgeCategory for the original database had 13 different groupings with a span of 5 years each. To highlight the particular risk correlated with Heart Disease and increased age, the groupings were split into the following AgeRisk Bins.\n",
    "\n",
    "| AgeCategory|AgeRisk|\n",
    "|:------------|:-------|\n",
    "| 18-24|Low Risk|\n",
    "| 25-29|Low Risk|\n",
    "| 30-34|Low Risk|\n",
    "| 35-39|Low Risk|\n",
    "| 40-44|Low Risk|\n",
    "| 45-49|Medium Risk|\n",
    "| 50-54|Medium Risk|\n",
    "| 55-59|Medium Risk|\n",
    "| 60-64|Medium Risk|\n",
    "| 65-69|High Risk|\n",
    "| 70-74|High Risk|\n",
    "| 75-79|High Risk|\n",
    "| 80 or older|High Risk|\n"
   ]
  },
  {
   "cell_type": "code",
   "execution_count": null,
   "id": "0105a206",
   "metadata": {
    "tags": []
   },
   "outputs": [],
   "source": [
    "# Define AgeCategory Bins dictionary\n",
    "file_path = Path('./DataTables/AgeRecoded.csv')\n",
    "ageDF = pd.read_csv(file_path)\n",
    "ageDict = dict(zip(ageDF.AgeCategory, ageDF.AgeRisk))\n",
    "print(ageDict)"
   ]
  },
  {
   "cell_type": "markdown",
   "id": "fa09aeb9",
   "metadata": {},
   "source": [
    "### Diabetic\n",
    "The Diabetic column for the original database had 4 different groupings with a spectrum of statuses in regards to diabetes. To reduce the confusing and potenitally flucuating degrees of diabetes. The groupings were reduced into the following Diabetes Bins.\n",
    "\n",
    "|Diabetic|Diabetes Bin|\n",
    "|:------------|:-------|\n",
    "|No|No|\n",
    "|Yes|Yes|\n",
    "|\"No, borderline diabetes\"|No|\n",
    "|Yes (during pregnancy)|No|"
   ]
  },
  {
   "cell_type": "code",
   "execution_count": null,
   "id": "4f789561",
   "metadata": {
    "scrolled": false,
    "tags": []
   },
   "outputs": [],
   "source": [
    "# Define Diabetic Bins dictionary\n",
    "file_path = Path('./DataTables/DiabeticRecoded.csv')\n",
    "diabeticDF = pd.read_csv(file_path)\n",
    "diabeticDict = dict(zip(diabeticDF.Diabetic, diabeticDF['Diabetes Bin']))\n",
    "print(diabeticDict)"
   ]
  },
  {
   "cell_type": "markdown",
   "id": "8964ab18",
   "metadata": {},
   "source": [
    "### SleepTime\n",
    "The SleepTime data for the original database had no groupings at all. Many rows show the recommended allotment of slee per day (between 7-9 hours). However some of the entries show patients who are recorded as sleeping up to 24 hours! To limit any outliers or significant deviations, groupings were reduced into the following three Recommended Sleep bins.\n",
    "\n",
    "|SleepTime|Recommended Sleep|\n",
    "|------------:|:-------|\n",
    "|1|Below|\n",
    "|2|Below|\n",
    "|3|Below|\n",
    "|4|Below|\n",
    "|5|Below|\n",
    "|6|Below|\n",
    "|7|Meets|\n",
    "|8|Meets|\n",
    "|9|Meets|\n",
    "|10|Above|\n",
    "|11|Above|\n",
    "|12|Above|\n",
    "|13|Above|\n",
    "|14|Above|\n",
    "|15|Above|\n",
    "|16|Above|\n",
    "|17|Above|\n",
    "|18|Above|\n",
    "|19|Above|\n",
    "|20|Above|\n",
    "|21|Above|\n",
    "|22|Above|\n",
    "|23|Above|\n",
    "|24|Above|"
   ]
  },
  {
   "cell_type": "code",
   "execution_count": null,
   "id": "7602567a",
   "metadata": {
    "tags": []
   },
   "outputs": [],
   "source": [
    "# Define SleepTime Bins dictionary\n",
    "file_path = Path('./DataTables/SleepRecoded.csv')\n",
    "sleepDF = pd.read_csv(file_path)\n",
    "sleepDict = dict(zip(sleepDF.SleepTime, sleepDF['Recommended Sleep']))\n",
    "print(sleepDict)"
   ]
  },
  {
   "cell_type": "code",
   "execution_count": null,
   "id": "7be5b9c4",
   "metadata": {},
   "outputs": [],
   "source": [
    "# Replace Age, Diabetic, SleepTime values w/ Bin values,\n",
    "df.AgeCategory = df.AgeCategory.replace(ageDict),\n",
    "df.Diabetic = df.Diabetic.replace(diabeticDict),\n",
    "df.SleepTime = df.SleepTime.replace(sleepDict),\n",
    "\n",
    "df.head()"
   ]
  },
  {
   "cell_type": "markdown",
   "id": "b572db99",
   "metadata": {},
   "source": [
    "## LabelEncoder\n",
    "Since the Machine Learning models cannot use strings when dynamically analyzing data, each string had to be switched to a numeric value. For the next step we used the LabelEncoder to target all columns containing string values and transform each piece of data into an integer.\n"
   ]
  },
  {
   "cell_type": "code",
   "execution_count": null,
   "id": "fc2e7ea9",
   "metadata": {},
   "outputs": [],
   "source": [
    "# Apply LabelEncoder module to all columns containing string values\n",
    "from sklearn.preprocessing import LabelEncoder\n",
    "le = LabelEncoder()\n",
    "string_columns = [    \n",
    "    \"HeartDisease\",\n",
    "    \"Smoking\",\n",
    "    \"AlcoholDrinking\",\n",
    "    \"Stroke\",\n",
    "    \"DiffWalking\",\n",
    "    \"Sex\",\n",
    "    \"AgeCategory\",\n",
    "    \"Race\",\n",
    "    \"Diabetic\",\n",
    "    \"PhysicalActivity\",\n",
    "    \"SleepTime\",\n",
    "    \"Asthma\",\n",
    "    \"KidneyDisease\",\n",
    "    \"SkinCancer\"    ]\n",
    "df2 = df.copy()\n",
    "df2[string_columns] = df2[string_columns].apply(le.fit_transform)\n",
    "df2.head()"
   ]
  },
  {
   "cell_type": "markdown",
   "id": "a3c163e5",
   "metadata": {},
   "source": [
    "# Split Data into Training and Testing"
   ]
  },
  {
   "cell_type": "code",
   "execution_count": null,
   "id": "a8dcdcc4",
   "metadata": {},
   "outputs": [],
   "source": [
    "# Create our features\n",
    "X = df.drop(\"health_status\", axis=1)\n",
    "X = pd.get_dummies(X)\n",
    "\n",
    "# Create our target\n",
    "y = df.loc[:, target].copy()\n",
    "X.describe()"
   ]
  },
  {
   "cell_type": "code",
   "execution_count": null,
   "id": "95da704f",
   "metadata": {},
   "outputs": [],
   "source": [
    "# Check the balance of our target values\n",
    "y['health_status'].value_counts()"
   ]
  },
  {
   "cell_type": "code",
   "execution_count": null,
   "id": "c5020355",
   "metadata": {},
   "outputs": [],
   "source": [
    "from sklearn.model_selection import train_test_split\n",
    "X_train, X_test, y_train, y_test = train_test_split(X,y, random_state=1)\n",
    "print(Counter(y_train['health_status']))\n",
    "print(Counter(y_test['health_status']))"
   ]
  },
  {
   "cell_type": "code",
   "execution_count": null,
   "id": "16e71888",
   "metadata": {},
   "outputs": [],
   "source": [
    "features = clf.feature_importances_\n",
    "print(features)\n",
    "plt.bar(x = range(len(features)), height=features)\n",
    "plt.show()"
   ]
  },
  {
   "cell_type": "code",
   "execution_count": null,
   "id": "2e73472b",
   "metadata": {},
   "outputs": [],
   "source": [
    "from sklearn.feature_selection import SelectFromModel"
   ]
  },
  {
   "cell_type": "code",
   "execution_count": null,
   "id": "ae119e70",
   "metadata": {},
   "outputs": [],
   "source": [
    "from sklearn.feature_selection import SelectFromModel\n",
    "sel = SelectFromModel(clf)\n",
    "sel.fit(X_train_scaled, y_train)\n",
    "sel.get_support()"
   ]
  },
  {
   "cell_type": "code",
   "execution_count": null,
   "id": "60b51065",
   "metadata": {},
   "outputs": [],
   "source": [
    "array([])"
   ]
  },
  {
   "cell_type": "code",
   "execution_count": null,
   "id": "9dea9306",
   "metadata": {},
   "outputs": [],
   "source": [
    "X_selected_train, X_selected_test, y_train, y_test = train_test_split(sel.transform(X), y, random_state=1)\n",
    "scaler = StandardScaler().fit(X_selected_train)\n",
    "X_selected_train_scaled = scaler.transform(X_selected_train)\n",
    "X_selected_test_scaled = scaler.transform(X_selected_test)"
   ]
  },
  {
   "cell_type": "code",
   "execution_count": null,
   "id": "6f614dc3",
   "metadata": {},
   "outputs": [],
   "source": [
    "clf = LogisticRegression().fit(X_train_scaled, y_train)\n",
    "print(f'Training Score: {clf.score(X_train_scaled, y_train)}')\n",
    "print(f'Testing Score: {clf.score(X_test_scaled, y_test)}')  Out [8]:  "
   ]
  },
  {
   "cell_type": "code",
   "execution_count": null,
   "id": "969f394f",
   "metadata": {},
   "outputs": [],
   "source": [
    "clf = LogisticRegression()\n",
    "clf.fit(X_selected_train_scaled, y_train)\n",
    "print(f'Training Score: {clf.score(X_selected_train_scaled, y_train)}')\n",
    "print(f'Testing Score: {clf.score(X_selected_test_scaled, y_test)}')"
   ]
  },
  {
   "cell_type": "markdown",
   "id": "2be425a4",
   "metadata": {},
   "source": [
    "# Ensemble Learners\n",
    "In this section, you will compare two ensemble algorithms to determine which algorithm results in the best performance. You will train a Balanced Random Forest Classifier and an Easy Ensemble AdaBoost classifier . For each algorithm, be sure to complete the folliowing steps:\n",
    "\n",
    "1. Train the model using the training data.\n",
    "2. Calculate the balanced accuracy score from sklearn.metrics.\n",
    "3. Print the confusion matrix from sklearn.metrics.\n",
    "4. Generate a classication report using the imbalanced_classification_report from imbalanced-learn.\n",
    "5. For the Balanced Random Forest Classifier onely, print the feature importance sorted in descending order (most important feature to least important) along with the feature score\n",
    "Note: Use a random state of 1 for each algorithm to ensure consistency between tests"
   ]
  },
  {
   "cell_type": "markdown",
   "id": "e6cb6f5e",
   "metadata": {},
   "source": [
    "### Easy Ensemble AdaBoost Classifer"
   ]
  },
  {
   "cell_type": "code",
   "execution_count": null,
   "id": "06a3b16c",
   "metadata": {},
   "outputs": [],
   "source": [
    "# Train the EasyEnsembleClassifier\n",
    "from imblearn.ensemble import EasyEnsembleClassifier\n",
    "EE_model = EasyEnsembleClassifier(n_estimators=100, random_state=1)\n",
    "EE_model.fit(X_train, y_train)\n",
    "print(Counter(y_train['health_status']))"
   ]
  },
  {
   "cell_type": "code",
   "execution_count": null,
   "id": "59b4104e",
   "metadata": {},
   "outputs": [],
   "source": [
    "# Calculated the balanced accuracy score\n",
    "from sklearn.metrics import balanced_accuracy_score\n",
    "balanced_accuracy_score(y_test,y_pred)"
   ]
  },
  {
   "cell_type": "code",
   "execution_count": null,
   "id": "857bbb42",
   "metadata": {},
   "outputs": [],
   "source": [
    "# Display the confusion matrix\n",
    "confusion_matrix(y_test, y_pred)"
   ]
  },
  {
   "cell_type": "code",
   "execution_count": null,
   "id": "5b12afbc",
   "metadata": {},
   "outputs": [],
   "source": [
    "# Print the imbalanced classification report\n",
    "from imblearn.metrics import classification_report_imbalanced\n",
    "\n",
    "print(classification_report_imbalanced(y_test, y_pred))"
   ]
  },
  {
   "cell_type": "markdown",
   "id": "ea88261e",
   "metadata": {},
   "source": [
    "### Naive Random Oversampling"
   ]
  },
  {
   "cell_type": "code",
   "execution_count": null,
   "id": "05b3b413",
   "metadata": {},
   "outputs": [],
   "source": [
    "# Resample the training data with the RandomOversampler\n",
    "from imblearn.over_sampling import RandomOverSampler\n",
    "ros = RandomOverSampler (random_state=1)\n",
    "X_resampled, y_resampled = ros.fit_resample(X_train, y_train)\n",
    "print(Counter(y_resampled['health_status']))"
   ]
  },
  {
   "cell_type": "code",
   "execution_count": null,
   "id": "6d783a84",
   "metadata": {},
   "outputs": [],
   "source": [
    "# Train the Logistic Regression model using the resampled data\n",
    "from sklearn.linear_model import LogisticRegression\n",
    "\n",
    "model = LogisticRegression(solver='lbfgs', random_state=1)\n",
    "model.fit(X_resampled, y_resampled)"
   ]
  },
  {
   "cell_type": "code",
   "execution_count": null,
   "id": "0efa65ee",
   "metadata": {},
   "outputs": [],
   "source": [
    "# Calculated the balanced accuracy score\n",
    "from sklearn.metrics import balanced_accuracy_score\n",
    "balanced_accuracy_score(y_test,y_pred)"
   ]
  },
  {
   "cell_type": "code",
   "execution_count": null,
   "id": "46b7201f",
   "metadata": {},
   "outputs": [],
   "source": [
    "# Display the confusion matrix\n",
    "from sklearn.metrics import confusion_matrix\n",
    "y_pred = model.predict(X_test)\n",
    "confusion_matrix(y_test, y_pred)"
   ]
  },
  {
   "cell_type": "code",
   "execution_count": null,
   "id": "1e3fe747",
   "metadata": {},
   "outputs": [],
   "source": [
    "# Print the imbalanced classification report\n",
    "from imblearn.metrics import classification_report_imbalanced\n",
    "print(classification_report_imbalanced(y_test, y_pred))"
   ]
  },
  {
   "cell_type": "markdown",
   "id": "731d4082",
   "metadata": {},
   "source": [
    "### SMOTE Oversampling"
   ]
  },
  {
   "cell_type": "code",
   "execution_count": null,
   "id": "d54e0c68",
   "metadata": {},
   "outputs": [],
   "source": [
    "# Resample the training data with SMOTE\n",
    "from imblearn.over_sampling import SMOTE\n",
    "X_resampled, y_resampled = SMOTE(random_state=1, sampling_strategy='auto').fit_resample(X_train, y_train)\n",
    "print(Counter(y_resampled['health_status']))"
   ]
  },
  {
   "cell_type": "code",
   "execution_count": null,
   "id": "a5d68ea8",
   "metadata": {},
   "outputs": [],
   "source": [
    "# Train the Logistic Regression model using the resampled data\n",
    "modelS = LogisticRegression(solver='lbfgs', random_state=1)\n",
    "modelS.fit(X_resampled, y_resampled)"
   ]
  },
  {
   "cell_type": "code",
   "execution_count": null,
   "id": "c97809ac",
   "metadata": {},
   "outputs": [],
   "source": [
    "# Calculated the balanced accuracy score\n",
    "balanced_accuracy_score(y_test, y_pred)"
   ]
  },
  {
   "cell_type": "code",
   "execution_count": null,
   "id": "1cd0a661",
   "metadata": {},
   "outputs": [],
   "source": [
    "# Display the confusion matrix\n",
    "confusion_matrix(y_test, y_pred)"
   ]
  },
  {
   "cell_type": "markdown",
   "id": "5fd950c3",
   "metadata": {},
   "source": [
    "## Undersampling\n",
    "In this section, you will test an undersampling algorithms to determine which algorithm results in the best performance compared to the oversampling algorithms above. You will undersample the data using the Cluster Centroids algorithm and complete the folliowing steps:\n",
    "\n",
    "1. View the count of the target classes using Counter from the collections library.\n",
    "2. Use the resampled data to train a logistic regression model.\n",
    "3. Calculate the balanced accuracy score from sklearn.metrics.\n",
    "4. Print the confusion matrix from sklearn.metrics.\n",
    "5. Generate a classication report using the imbalanced_classification_report from imbalanced-learn.\n",
    "Note: Use a random state of 1 for each sampling algorithm to ensure consistency between tests"
   ]
  },
  {
   "cell_type": "code",
   "execution_count": null,
   "id": "a22e1d3f",
   "metadata": {},
   "outputs": [],
   "source": [
    "# Resample the data using the ClusterCentroids resampler\n",
    "# Warning: This is a large dataset, and this step may take some time to complete\n",
    "from imblearn.under_sampling import ClusterCentroids\n",
    "cc = ClusterCentroids(random_state=1)\n",
    "X_resampled, y_resampled = cc.fit_resample(X_train, y_train)\n",
    "print(Counter(y_resampled[\"health_status\"]))"
   ]
  },
  {
   "cell_type": "code",
   "execution_count": null,
   "id": "d717a709",
   "metadata": {},
   "outputs": [],
   "source": [
    "# Train the Logistic Regression model using the resampled data\n",
    "modelU = LogisticRegression(solver='lbfgs', random_state=1)\n",
    "modelU.fit(X_resampled, y_resampled)"
   ]
  },
  {
   "cell_type": "code",
   "execution_count": null,
   "id": "3a0bc848",
   "metadata": {},
   "outputs": [],
   "source": [
    "# Calculated the balanced accuracy score\n",
    "balanced_accuracy_score(y_test, y_pred)"
   ]
  },
  {
   "cell_type": "code",
   "execution_count": null,
   "id": "3a9ccd6c",
   "metadata": {},
   "outputs": [],
   "source": [
    "# Print the imbalanced classification report\n",
    "print(classification_report_imbalanced(y_test, y_pred))"
   ]
  },
  {
   "cell_type": "markdown",
   "id": "50e4889e",
   "metadata": {},
   "source": [
    "## Combination (Over and Under) Sampling\n",
    "In this section, you will test a combination over- and under-sampling algorithm to determine if the algorithm results in the best performance compared to the other sampling algorithms above. You will resample the data using the SMOTEENN algorithm and complete the folliowing steps:\n",
    "\n",
    "1. View the count of the target classes using Counter from the collections library.\n",
    "2. Use the resampled data to train a logistic regression model.\n",
    "3. Calculate the balanced accuracy score from sklearn.metrics.\n",
    "4. Print the confusion matrix from sklearn.metrics.\n",
    "5. Generate a classication report using the imbalanced_classification_report from imbalanced-learn.\n",
    "Note: Use a random state of 1 for each sampling algorithm to ensure consistency between tests"
   ]
  },
  {
   "cell_type": "code",
   "execution_count": null,
   "id": "9909762d",
   "metadata": {},
   "outputs": [],
   "source": [
    "# Resample the training data with SMOTEENN\n",
    "# Warning: This is a large dataset, and this step may take some time to complete\n",
    "from imblearn.combine import SMOTEENN\n",
    "\n",
    "smote_enn = SMOTEENN(random_state=0)\n",
    "X_resampled, y_resampled = smote_enn.fit_resample(X,y)\n",
    "print(Counter(y_resampled[\"health_status\"]))"
   ]
  },
  {
   "cell_type": "code",
   "execution_count": null,
   "id": "1c659246",
   "metadata": {},
   "outputs": [],
   "source": [
    "# Train the Logistic Regression model using the resampled data\n",
    "modelENN = LogisticRegression(solver='lbfgs',random_state=1)\n",
    "modelENN.fit(X_resampled, y_resampled)"
   ]
  },
  {
   "cell_type": "code",
   "execution_count": null,
   "id": "f396acc8",
   "metadata": {},
   "outputs": [],
   "source": [
    "# Calculated the balanced accuracy score\n",
    "balanced_accuracy_score(y_test, y_pred)"
   ]
  },
  {
   "cell_type": "code",
   "execution_count": null,
   "id": "8f0028e2",
   "metadata": {},
   "outputs": [],
   "source": [
    "# Display the confusion matrix\n",
    "confusion_matrix(y_test, y_pred)"
   ]
  },
  {
   "cell_type": "code",
   "execution_count": null,
   "id": "59c72a9b",
   "metadata": {},
   "outputs": [],
   "source": [
    "#Print the imbalanced classification report\n",
    "print(classification_report_imbalanced(y_test, y_pred))"
   ]
  }
 ],
 "metadata": {
  "kernelspec": {
   "display_name": "Python 3 (ipykernel)",
   "language": "python",
   "name": "python3"
  },
  "language_info": {
   "codemirror_mode": {
    "name": "ipython",
    "version": 3
   },
   "file_extension": ".py",
   "mimetype": "text/x-python",
   "name": "python",
   "nbconvert_exporter": "python",
   "pygments_lexer": "ipython3",
   "version": "3.9.12"
  }
 },
 "nbformat": 4,
 "nbformat_minor": 5
}
